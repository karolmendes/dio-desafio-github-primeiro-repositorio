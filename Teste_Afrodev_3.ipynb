{
  "nbformat": 4,
  "nbformat_minor": 0,
  "metadata": {
    "colab": {
      "name": "Teste Afrodev 3.ipynb",
      "provenance": [],
      "collapsed_sections": [],
      "authorship_tag": "ABX9TyMnEIlmDMfYO1fcUqc9Ur06",
      "include_colab_link": true
    },
    "kernelspec": {
      "name": "python3",
      "display_name": "Python 3"
    },
    "language_info": {
      "name": "python"
    }
  },
  "cells": [
    {
      "cell_type": "markdown",
      "metadata": {
        "id": "view-in-github",
        "colab_type": "text"
      },
      "source": [
        "<a href=\"https://colab.research.google.com/github/karolmendes/dio-desafio-github-primeiro-repositorio/blob/main/Teste_Afrodev_3.ipynb\" target=\"_parent\"><img src=\"https://colab.research.google.com/assets/colab-badge.svg\" alt=\"Open In Colab\"/></a>"
      ]
    },
    {
      "cell_type": "code",
      "metadata": {
        "id": "JJMqa1BgYo87"
      },
      "source": [
        "import pandas as pd\n",
        "import numpy as np\n",
        "from pandas import read_csv\n",
        "\n",
        "df = pd.read_csv(\"/content/base_de_dados_olimpiadas.csv\") "
      ],
      "execution_count": 1,
      "outputs": []
    },
    {
      "cell_type": "code",
      "metadata": {
        "id": "v2CSrLsKI40-",
        "colab": {
          "base_uri": "https://localhost:8080/"
        },
        "outputId": "6246aece-1a5e-4ffb-b167-3e8552e01e59"
      },
      "source": [
        "#1.\tApresente: quantidade de linhas e colunas no arquivo, idade máxima, idade mínima e idade média.\n",
        "count_col = df.shape[1]\n",
        "print(count_col)\n",
        "count_row = df.shape[0] \n",
        "print(count_row)\n",
        "\n",
        "idade_maxima = df[\"idade\"].max()\n",
        "print(idade_maxima)\n",
        "#print(df.iloc[:,[0,1]])\n",
        "\n",
        "idade_minima = df[\"idade\"].min()\n",
        "print(idade_minima)\n",
        "\n",
        "total = df[\"idade\"].sum()\n",
        "media = total/count_row\n",
        "print(f\"{media:.0f}\")\n",
        "\n",
        "#print(df)\n"
      ],
      "execution_count": 2,
      "outputs": [
        {
          "output_type": "stream",
          "name": "stdout",
          "text": [
            "10\n",
            "2398\n",
            "46.0\n",
            "15.0\n",
            "25\n"
          ]
        }
      ]
    },
    {
      "cell_type": "code",
      "metadata": {
        "colab": {
          "base_uri": "https://localhost:8080/"
        },
        "id": "wN-I6l2VaBW5",
        "outputId": "01dca7b9-1579-4275-8419-4e7b448fe69f"
      },
      "source": [
        "#2.\tListe todos os registros da atleta Serena Williams.\n",
        "serena = df.loc[df[\"atleta\"] == \"Serena Williams\"]\n",
        "print(serena)"
      ],
      "execution_count": 3,
      "outputs": [
        {
          "output_type": "stream",
          "name": "stdout",
          "text": [
            "               atleta  idade           pais   ano  ... ouro prata  bronze  total\n",
            "174   Serena Williams   30.0  United States  2012  ...    2     0       0      2\n",
            "1947  Serena Williams   26.0  United States  2008  ...    1     0       0      1\n",
            "1980  Serena Williams   18.0  United States  2000  ...    1     0       0      1\n",
            "\n",
            "[3 rows x 10 columns]\n"
          ]
        }
      ]
    },
    {
      "cell_type": "code",
      "metadata": {
        "id": "AtZNxjzMaSDd"
      },
      "source": [
        "#3.\tListe o nome de todos os países distintos que participaram das olimpíadas.\n",
        "dif = df[\"pais\"].unique()\n",
        "print(dif)"
      ],
      "execution_count": null,
      "outputs": []
    },
    {
      "cell_type": "code",
      "metadata": {
        "id": "ML3QfLPXaYMC"
      },
      "source": [
        "#4.\tListe os atletas que receberam mais de 3 medalhas de ouro.\n",
        "print(df.loc[df[\"ouro\"] > 3])"
      ],
      "execution_count": null,
      "outputs": []
    },
    {
      "cell_type": "code",
      "metadata": {
        "colab": {
          "base_uri": "https://localhost:8080/"
        },
        "id": "48fIXKGsafdz",
        "outputId": "77a83a89-dee8-4484-b9c0-7bc1503740b8"
      },
      "source": [
        "#5. Liste todos os atletas do esporte natação e do país Brasil.\n",
        "print(df.loc[(df[\"esporte\"] == \"Swimming\") & (df[\"pais\"] == \"Brazil\")])"
      ],
      "execution_count": 6,
      "outputs": [
        {
          "output_type": "stream",
          "name": "stdout",
          "text": [
            "                   atleta  idade    pais   ano  ... ouro prata  bronze  total\n",
            "222     César Cielo Filho   21.0  Brazil  2008  ...    1     0       1      2\n",
            "2080    César Cielo Filho   25.0  Brazil  2012  ...    0     0       1      1\n",
            "2138       Thiago Pereira   26.0  Brazil  2012  ...    0     1       0      1\n",
            "2322       Gustavo Borges   27.0  Brazil  2000  ...    0     0       1      1\n",
            "2341         Carlos Jayme   20.0  Brazil  2000  ...    0     0       1      1\n",
            "2370         Xuxa Scherer   25.0  Brazil  2000  ...    0     0       1      1\n",
            "2371  Edvaldo Silva Filho   22.0  Brazil  2000  ...    0     0       1      1\n",
            "\n",
            "[7 rows x 10 columns]\n"
          ]
        }
      ]
    }
  ]
}