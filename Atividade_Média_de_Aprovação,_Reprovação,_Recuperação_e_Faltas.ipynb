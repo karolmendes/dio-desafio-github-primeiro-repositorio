{
  "nbformat": 4,
  "nbformat_minor": 0,
  "metadata": {
    "colab": {
      "name": "Atividade - Média de Aprovação, Reprovação, Recuperação e Faltas",
      "provenance": [],
      "collapsed_sections": [],
      "authorship_tag": "ABX9TyO4M5E8QPrkOqVWBM0JAFq0",
      "include_colab_link": true
    },
    "kernelspec": {
      "name": "python3",
      "display_name": "Python 3"
    },
    "language_info": {
      "name": "python"
    }
  },
  "cells": [
    {
      "cell_type": "markdown",
      "metadata": {
        "id": "view-in-github",
        "colab_type": "text"
      },
      "source": [
        "<a href=\"https://colab.research.google.com/github/karolmendes/dio-desafio-github-primeiro-repositorio/blob/main/Atividade_M%C3%A9dia_de_Aprova%C3%A7%C3%A3o%2C_Reprova%C3%A7%C3%A3o%2C_Recupera%C3%A7%C3%A3o_e_Faltas.ipynb\" target=\"_parent\"><img src=\"https://colab.research.google.com/assets/colab-badge.svg\" alt=\"Open In Colab\"/></a>"
      ]
    },
    {
      "cell_type": "code",
      "metadata": {
        "id": "4mSH52Vw-3kS"
      },
      "source": [
        "#Média e Situação do Aluno\n",
        "\n",
        "nome = input('Digite o seu nome:')\n",
        "faltas = int(input('Digite o seu número de faltas:'))\n",
        "n1 = float(input('Digite a primeira nota: '))\n",
        "n2 = float(input('Digite a segunda nota: '))\n",
        "n3 = float(input('Digite a terceira nota: '))\n",
        "n4 = float(input('Digite a quarta nota: '))\n",
        "media = (n1 + n2 + n3 + n4) / 4\n",
        "\n",
        "if faltas >= 4:\n",
        "  print(f'{nome}, você foi reprovad@ por exceder o limite de faltas')\n",
        "elif media >= 7 and faltas < 4:\n",
        " print(f'{nome}, sua média é {media:.2f} e você foi aprovad@')\n",
        "else:\n",
        " print(f'{nome}, sua média é {media:.2f} e você está de recuperação')"
      ],
      "execution_count": null,
      "outputs": []
    }
  ]
}